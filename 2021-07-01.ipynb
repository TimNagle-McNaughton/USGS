{
 "cells": [
  {
   "cell_type": "markdown",
   "metadata": {},
   "source": [
    "# July 1, 2010\n",
    "\n",
    "In this example we'll grab some data and plot records section"
   ]
  },
  {
   "cell_type": "code",
   "execution_count": 13,
   "metadata": {},
   "outputs": [],
   "source": [
    "# imports\n",
    "from obspy.clients.fdsn import Client\n",
    "from obspy.core import UTCDateTime, Stream, inventory\n",
    "from obspy.geodetics import gps2dist_azimuth\n",
    "import matplotlib.pyplot as plt\n",
    "import matplotlib.transforms as transforms"
   ]
  },
  {
   "cell_type": "markdown",
   "metadata": {},
   "source": [
    "Set up the observation period."
   ]
  },
  {
   "cell_type": "code",
   "execution_count": 2,
   "metadata": {},
   "outputs": [],
   "source": [
    "# initialize an IRIS instance\n",
    "client = Client('IRIS')\n",
    "\n",
    "# set the start time\n",
    "stime = UTCDateTime(\"2021-175T19:38:03\")\n",
    "\n",
    "# set the end time to be +10s\n",
    "etime = stime + 10."
   ]
  },
  {
   "cell_type": "markdown",
   "metadata": {},
   "source": [
    "Get some data parameters."
   ]
  },
  {
   "cell_type": "code",
   "execution_count": 3,
   "metadata": {},
   "outputs": [],
   "source": [
    "# format is: Network, Location, Sensor, Band\n",
    "# note that HHZ does not always exist, so check\n",
    "sncls = [['IU', 'ANMO', '00', 'HHZ'], \n",
    "         ['IU', 'ANMO', '10', 'HHZ'],\n",
    "         ['GS', 'ASA*', '00', 'HHZ']]"
   ]
  },
  {
   "cell_type": "markdown",
   "metadata": {},
   "source": [
    "Collect the data into one stream and save the needed metadata."
   ]
  },
  {
   "cell_type": "code",
   "execution_count": 4,
   "metadata": {
    "scrolled": true
   },
   "outputs": [
    {
     "name": "stdout",
     "output_type": "stream",
     "text": [
      "['IU', 'ANMO', '00', 'HHZ']\n",
      "Oops! No data available for request.\n",
      "Detailed response of server:\n",
      "\n",
      "\n",
      "['IU', 'ANMO', '10', 'HHZ']\n",
      "['GS', 'ASA*', '00', 'HHZ']\n"
     ]
    }
   ],
   "source": [
    "# make an empty stream to store the results\n",
    "stream = Stream()\n",
    "\n",
    "# loop through the list of lists\n",
    "for sncl in sncls:\n",
    "\n",
    "    # check if the HHZ exists:\n",
    "    try:\n",
    "    \n",
    "        # get the data streams (add some time padding -20s to account for filtering)\n",
    "        stream += client.get_waveforms(sncl[0], sncl[1], sncl[2], sncl[3], stime-20., etime)\n",
    "        \n",
    "        # check if we have an inventory variable\n",
    "        if 'inv' not in vars():\n",
    "        \n",
    "            # get some metadata from the inventory\n",
    "            inventory = client.get_stations(network=sncl[0], station=sncl[1], \n",
    "                                           starttime=stime, endtime=etime, \n",
    "                                           level='response')\n",
    "        \n",
    "        # append if the variable already exists\n",
    "        else:\n",
    "            \n",
    "            # get some metadata from the inventory\n",
    "            inventory += client.get_stations(network=sncl[0], station=sncl[1], \n",
    "                                           starttime=stime, endtime=etime, \n",
    "                                           level='response')\n",
    "    \n",
    "    # print the error if we hit one\n",
    "    except Exception as error:\n",
    "        print(\"Oops!\", error)"
   ]
  },
  {
   "cell_type": "markdown",
   "metadata": {},
   "source": [
    "Check the results we just generated."
   ]
  },
  {
   "cell_type": "code",
   "execution_count": 5,
   "metadata": {
    "scrolled": false
   },
   "outputs": [
    {
     "name": "stdout",
     "output_type": "stream",
     "text": [
      "Inventory created at 2021-07-01T17:00:35.000000Z\n",
      "\tCreated by: IRIS WEB SERVICE: fdsnws-station | version: 1.1.47\n",
      "\t\t    http://service.iris.edu/fdsnws/station/1/query?starttime=2021-06-24...\n",
      "\tSending institution: IRIS-DMC (IRIS-DMC)\n",
      "\tContains:\n",
      "\t\tNetworks (1):\n",
      "\t\t\tGS\n",
      "\t\tStations (6):\n",
      "\t\t\tGS.ASA1 (ASA1)\n",
      "\t\t\tGS.ASA2 (ASA2)\n",
      "\t\t\tGS.ASA3 (ASA3)\n",
      "\t\t\tGS.ASA4 (ASA4)\n",
      "\t\t\tGS.ASA5 (ASA5)\n",
      "\t\t\tGS.ASA6 (ASA6)\n",
      "\t\tChannels (54):\n",
      "\t\t\tGS.ASA1.00.HHZ, GS.ASA1.00.HH1, GS.ASA1.00.HH2, GS.ASA1.00.LHZ, \n",
      "\t\t\tGS.ASA1.00.LH1, GS.ASA1.00.LH2, GS.ASA1.00.VM1, GS.ASA1.00.VM2, \n",
      "\t\t\tGS.ASA1.00.VM3, GS.ASA2.00.HHZ, GS.ASA2.00.HH1, GS.ASA2.00.HH2, \n",
      "\t\t\tGS.ASA2.00.LHZ, GS.ASA2.00.LH1, GS.ASA2.00.LH2, GS.ASA2.00.VM1, \n",
      "\t\t\tGS.ASA2.00.VM2, GS.ASA2.00.VM3, GS.ASA3.00.HHZ, GS.ASA3.00.HH1, \n",
      "\t\t\tGS.ASA3.00.HH2, GS.ASA3.00.LHZ, GS.ASA3.00.LH1, GS.ASA3.00.LH2, \n",
      "\t\t\tGS.ASA3.00.VM1, GS.ASA3.00.VM2, GS.ASA3.00.VM3, GS.ASA4.00.HHZ, \n",
      "\t\t\tGS.ASA4.00.HH1, GS.ASA4.00.HH2, GS.ASA4.00.LHZ, GS.ASA4.00.LH1, \n",
      "\t\t\tGS.ASA4.00.LH2, GS.ASA4.00.VM1, GS.ASA4.00.VM2, GS.ASA4.00.VM3, \n",
      "\t\t\tGS.ASA5.00.HHZ, GS.ASA5.00.HH1, GS.ASA5.00.HH2, GS.ASA5.00.LHZ, \n",
      "\t\t\tGS.ASA5.00.LH1, GS.ASA5.00.LH2, GS.ASA5.00.VM1, GS.ASA5.00.VM2, \n",
      "\t\t\tGS.ASA5.00.VM3, GS.ASA6.00.HHZ, GS.ASA6.00.HH1, GS.ASA6.00.HH2, \n",
      "\t\t\tGS.ASA6.00.LHZ, GS.ASA6.00.LH1, GS.ASA6.00.LH2, GS.ASA6.00.VM1, \n",
      "\t\t\tGS.ASA6.00.VM2, GS.ASA6.00.VM3\n",
      "7 Trace(s) in Stream:\n",
      "IU.ANMO.10.HHZ | 2021-06-24T19:37:43.008393Z - 2021-06-24T19:38:12.998393Z | 100.0 Hz, 3000 samples\n",
      "GS.ASA1.00.HHZ | 2021-06-24T19:37:43.000000Z - 2021-06-24T19:38:13.000000Z | 100.0 Hz, 3001 samples\n",
      "GS.ASA2.00.HHZ | 2021-06-24T19:37:43.000000Z - 2021-06-24T19:38:13.000000Z | 100.0 Hz, 3001 samples\n",
      "GS.ASA3.00.HHZ | 2021-06-24T19:37:43.000000Z - 2021-06-24T19:38:13.000000Z | 100.0 Hz, 3001 samples\n",
      "GS.ASA4.00.HHZ | 2021-06-24T19:37:43.000000Z - 2021-06-24T19:38:13.000000Z | 100.0 Hz, 3001 samples\n",
      "GS.ASA5.00.HHZ | 2021-06-24T19:37:43.000000Z - 2021-06-24T19:38:13.000000Z | 100.0 Hz, 3001 samples\n",
      "GS.ASA6.00.HHZ | 2021-06-24T19:37:43.000000Z - 2021-06-24T19:38:13.000000Z | 100.0 Hz, 3001 samples\n"
     ]
    }
   ],
   "source": [
    "print(inventory)\n",
    "print(stream)"
   ]
  },
  {
   "cell_type": "markdown",
   "metadata": {},
   "source": [
    "Calculate the distances to the earthquake"
   ]
  },
  {
   "cell_type": "code",
   "execution_count": 6,
   "metadata": {},
   "outputs": [
    {
     "name": "stdout",
     "output_type": "stream",
     "text": [
      "GS.ASA2.00.HHZ\n",
      "GS.ASA3.00.HHZ\n",
      "GS.ASA4.00.HHZ\n",
      "GS.ASA5.00.HHZ\n",
      "GS.ASA6.00.HHZ\n"
     ]
    }
   ],
   "source": [
    "# add a fake earthquake location\n",
    "eq_lat, eq_lon = 34.99, -106.52\n",
    "\n",
    "# remove the problematic ANMO sites, note the station is not pre\n",
    "stream = stream[2:]\n",
    "\n",
    "# loop through each trace\n",
    "for trace in stream:\n",
    "    \n",
    "    # get the coordinate dictionary\n",
    "    locations = inventory.get_coordinates(trace.id, stime)\n",
    "    \n",
    "    # calculate the distances, first returned element is in meters\n",
    "    trace.stats.distance = gps2dist_azimuth(locations['latitude'], locations['longitude'], \n",
    "                                                      eq_lat, eq_lon)[0]"
   ]
  },
  {
   "cell_type": "code",
   "execution_count": 7,
   "metadata": {
    "scrolled": false
   },
   "outputs": [
    {
     "data": {
      "text/plain": [
       "5 Trace(s) in Stream:\n",
       "GS.ASA2.00.HHZ | 2021-06-24T19:38:03.000000Z - 2021-06-24T19:38:13.000000Z | 100.0 Hz, 1001 samples\n",
       "GS.ASA3.00.HHZ | 2021-06-24T19:38:03.000000Z - 2021-06-24T19:38:13.000000Z | 100.0 Hz, 1001 samples\n",
       "GS.ASA4.00.HHZ | 2021-06-24T19:38:03.000000Z - 2021-06-24T19:38:13.000000Z | 100.0 Hz, 1001 samples\n",
       "GS.ASA5.00.HHZ | 2021-06-24T19:38:03.000000Z - 2021-06-24T19:38:13.000000Z | 100.0 Hz, 1001 samples\n",
       "GS.ASA6.00.HHZ | 2021-06-24T19:38:03.000000Z - 2021-06-24T19:38:13.000000Z | 100.0 Hz, 1001 samples"
      ]
     },
     "execution_count": 7,
     "metadata": {},
     "output_type": "execute_result"
    }
   ],
   "source": [
    "# filter our streams\n",
    "stream.filter('bandpass', freqmin=1, freqmax=10)\n",
    "\n",
    "# trim the extra off the beginning to avoid filter ringing\n",
    "stream.trim(stime, etime)"
   ]
  },
  {
   "cell_type": "code",
   "execution_count": 14,
   "metadata": {},
   "outputs": [
    {
     "data": {
      "image/png": "[encoded data removed]",
      "text/plain": [
       "<Figure size 432x288 with 1 Axes>"
      ]
     },
     "metadata": {
      "needs_background": "light"
     },
     "output_type": "display_data"
    }
   ],
   "source": [
    "# show the figure\n",
    "fig=plt.figure()\n",
    "stream.plot(type='section', show='False', fig=fig)\n",
    "\n",
    "# set the axis\n",
    "ax = fig.axes[0]\n",
    "\n",
    "# apply the mystery transform\n",
    "transform = transforms.blended_transform_factory(ax.transData, ax.transAxes)\n",
    "\n",
    "# label each trace\n",
    "for trace in stream:\n",
    "    \n",
    "    # add the text to the plot\n",
    "    ax.text(trace.stats.distance/1e3, 1.0, \n",
    "            trace.stats.station, rotation=270, va='bottom', ha='center',\n",
    "            transform=transform, zorder=10)\n",
    "\n",
    "plt.show()"
   ]
  }
 ],
 "metadata": {
  "kernelspec": {
   "display_name": "Python 3",
   "language": "python",
   "name": "python3"
  },
  "language_info": {
   "codemirror_mode": {
    "name": "ipython",
    "version": 3
   },
   "file_extension": ".py",
   "mimetype": "text/x-python",
   "name": "python",
   "nbconvert_exporter": "python",
   "pygments_lexer": "ipython3",
   "version": "3.8.8"
  }
 },
 "nbformat": 4,
 "nbformat_minor": 4
}
