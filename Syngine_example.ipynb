{
 "cells": [
  {
   "cell_type": "markdown",
   "id": "5e2800ff",
   "metadata": {},
   "source": [
    "**Use the suppplied requirements.txt to set up your virtual env.**\n",
    "\n",
    "Using pip:\n",
    "\n",
    ">pip install -r requirements.txt\n",
    "\n",
    "Using Conda:\n",
    "\n",
    ">conda create --name (env_name) --file requirements.txt"
   ]
  },
  {
   "cell_type": "markdown",
   "id": "239c8433",
   "metadata": {},
   "source": [
    "In this notebook we will explore how you can access, query, and use the Syngine models available via IRIS. These models can generate synthetic seismograms for any event/observation pair on Earth."
   ]
  },
  {
   "cell_type": "code",
   "execution_count": 1,
   "id": "4e04d5cd",
   "metadata": {},
   "outputs": [],
   "source": [
    "# import obspy\n",
    "import obspy\n",
    "from obspy.taup import TauPyModel\n",
    "from obspy.core import UTCDateTime, Stream\n",
    "from obspy.geodetics import locations2degrees\n",
    "\n",
    "# import the two different clients, and differentiate between names\n",
    "from obspy.clients.fdsn import Client as Client \n",
    "from obspy.clients.syngine import Client as synClient\n",
    "\n",
    "# other packages\n",
    "import matplotlib.pyplot as plt\n",
    "import matplotlib.gridspec as gridspec\n",
    "import numpy as np\n",
    "import itertools\n",
    "import pandas as pd\n",
    "import requests\n",
    "import ssl \n",
    "\n",
    "# matplotlib magic\n",
    "%matplotlib inline"
   ]
  },
  {
   "cell_type": "code",
   "execution_count": 2,
   "id": "4ca63d50",
   "metadata": {},
   "outputs": [],
   "source": [
    "# having some trouble with my work computer's SSL certs so let's hack around that\n",
    "try:\n",
    "    _create_unverified_https_context = ssl._create_unverified_context\n",
    "\n",
    "except AttributeError:\n",
    "    pass\n",
    "\n",
    "else:\n",
    "    ssl._create_default_https_context = _create_unverified_https_context"
   ]
  },
  {
   "cell_type": "code",
   "execution_count": 3,
   "id": "31b98c94",
   "metadata": {},
   "outputs": [
    {
     "name": "stdout",
     "output_type": "stream",
     "text": [
      "Station ANMO (Albuquerque, New Mexico, USA)\n",
      "\tStation Code: ANMO\n",
      "\tChannel Count: None/None (Selected/Total)\n",
      "\t1989-08-29T00:00:00.000000Z - 2000-10-19T16:00:00.000000Z\n",
      "\tAccess: None \n",
      "\tLatitude: 34.95, Longitude: -106.46, Elevation: 1850.0 m\n",
      "\tAvailable Channels:\n",
      "\n"
     ]
    }
   ],
   "source": [
    "# set an observatory to use for later analysis\n",
    "network = \"IU\"\n",
    "station = \"ANMO\"\n",
    "\n",
    "# get a real station.\n",
    "irisClient = Client(\"IRIS\")\n",
    "ANMO = irisClient.get_stations(network=network, \n",
    "                           station=station, \n",
    "                           format=\"text\")[0][0]\n",
    "\n",
    "print(ANMO)"
   ]
  },
  {
   "cell_type": "markdown",
   "id": "c2d7b9ea",
   "metadata": {},
   "source": [
    "We can load all the current models that are available on Syngine, and preview some basic information about them."
   ]
  },
  {
   "cell_type": "code",
   "execution_count": 4,
   "id": "d7929583",
   "metadata": {
    "scrolled": true
   },
   "outputs": [],
   "source": [
    "# initialize the syngine client\n",
    "client = synClient()\n",
    "\n",
    "# load the models\n",
    "models = client.get_available_models()"
   ]
  },
  {
   "cell_type": "markdown",
   "id": "65a8fb3b",
   "metadata": {},
   "source": [
    "Here are the models we'll be using:\n",
    "\n",
    "| Model name | Resolution (s) | Description |\n",
    "|:---:|:---:|:---:|\n",
    "| ak135f_1s | 1-100 | AK135 with density & Q of [Montagner & Kennet (1996)](https://academic.oup.com/gji/article/125/1/229/703026?login=true) |\n",
    "| ak135f_2s | 2-100 | AK135 with density & Q of [Montagner & Kennet (1996)](https://academic.oup.com/gji/article/125/1/229/703026?login=true) |\n",
    "| ak135f_5s | 5-100 | AK135 with density & Q of [Montagner & Kennet (1996)](https://academic.oup.com/gji/article/125/1/229/703026?login=true) | \n",
    "| iasp91_2s | 2-100 | IASP91  |\n",
    "| prem_a_2s | 2-100 |  anisotropic PREM  | \n",
    "| prem_a_10s | 10-100 |  anisotropic PREM  | \n",
    "| prem_a_20s | 20-100 |  anisotropic PREM  |\n",
    "| prem_a_5s | 5-100 |  anisotropic PREM  |\n",
    "| prem_i_2s | 2-100 | isotropic PREM |"
   ]
  },
  {
   "cell_type": "markdown",
   "id": "c5ca527b",
   "metadata": {},
   "source": [
    "Full details are available [online](http://ds.iris.edu/ds/products/syngine/). This same data is actually stored in the models dictionary we just generated. (Click the output to toggle scrolling on the output in notebooks)"
   ]
  },
  {
   "cell_type": "code",
   "execution_count": 5,
   "id": "e2f645d7",
   "metadata": {
    "scrolled": true
   },
   "outputs": [
    {
     "data": {
      "text/plain": [
       "{'ak135f_5s': {'components': 'vertical and horizontal',\n",
       "  'description': 'ak135 with density & Q of Montagner & Kennet(1996)',\n",
       "  'max_sampling_period': '1.278000',\n",
       "  'default_components': 'ZNE',\n",
       "  'max_event_depth': 750000,\n",
       "  'length': 3904.29,\n",
       "  'min_period': 5.125,\n",
       "  'max_period': '~100',\n",
       "  'default_dt': '0.25'},\n",
       " 'prem_a_2s': {'components': 'vertical and horizontal',\n",
       "  'description': 'anisotropic PREM',\n",
       "  'max_sampling_period': '0.512260',\n",
       "  'default_components': 'ZNE',\n",
       "  'max_event_depth': 750000,\n",
       "  'length': 3609.89347171399,\n",
       "  'min_period': 2.09999990463257,\n",
       "  'max_period': '~100',\n",
       "  'default_dt': '0.1'},\n",
       " 'prem_i_2s': {'components': 'vertical and horizontal',\n",
       "  'description': 'isotropic PREM',\n",
       "  'max_sampling_period': '0.512260',\n",
       "  'default_components': 'ZNE',\n",
       "  'max_event_depth': 750000,\n",
       "  'length': 3609.89347171448,\n",
       "  'min_period': 2.09999990463257,\n",
       "  'max_period': '~100',\n",
       "  'default_dt': '0.1'},\n",
       " 'ak135f_2s': {'components': 'vertical and horizontal',\n",
       "  'description': 'ak135 with density & Q of Montagner & Kennet(1996)',\n",
       "  'max_sampling_period': '0.525000',\n",
       "  'default_components': 'ZNE',\n",
       "  'max_event_depth': 750000,\n",
       "  'length': 3599.925,\n",
       "  'min_period': 2.09999990463257,\n",
       "  'max_period': '~100',\n",
       "  'default_dt': '0.1'},\n",
       " 'prem_a_10s': {'components': 'vertical and horizontal',\n",
       "  'description': 'anisotropic PREM ',\n",
       "  'max_sampling_period': '2.440630',\n",
       "  'default_components': 'ZNE',\n",
       "  'max_event_depth': 700000,\n",
       "  'length': 17999.6459763,\n",
       "  'min_period': 10,\n",
       "  'max_period': '~100',\n",
       "  'default_dt': '0.5'},\n",
       " 'iasp91_2s': {'components': 'vertical and horizontal',\n",
       "  'description': 'IASP91',\n",
       "  'max_sampling_period': '0.483045',\n",
       "  'default_components': 'ZNE',\n",
       "  'max_event_depth': 700000,\n",
       "  'length': 3699.64182036487,\n",
       "  'min_period': 2,\n",
       "  'max_period': '~100',\n",
       "  'default_dt': '0.1'},\n",
       " 'prem_a_20s': {'components': 'vertical and horizontal',\n",
       "  'description': 'anisotropic PREM',\n",
       "  'max_sampling_period': '4.869333',\n",
       "  'default_components': 'ZNE',\n",
       "  'max_event_depth': 671000,\n",
       "  'length': 1796.78377075236,\n",
       "  'min_period': 20,\n",
       "  'max_period': '~100',\n",
       "  'default_dt': '1'},\n",
       " 'prem_a_5s': {'components': 'vertical and horizontal',\n",
       "  'description': 'anisotropic PREM',\n",
       "  'max_sampling_period': '1.213826',\n",
       "  'default_components': 'ZNE',\n",
       "  'max_event_depth': 751000,\n",
       "  'length': 3900.02402745055,\n",
       "  'min_period': 4.94999980926514,\n",
       "  'max_period': '~100',\n",
       "  'default_dt': '0.25'},\n",
       " 'ak135f_1s': {'components': 'vertical only',\n",
       "  'description': 'ak135 with density & Q of Montagner & Kennet(1996), vertical only',\n",
       "  'max_sampling_period': '0.253000',\n",
       "  'default_components': 'Z',\n",
       "  'max_event_depth': 750000,\n",
       "  'length': 1849.936,\n",
       "  'min_period': 1.04999995231628,\n",
       "  'max_period': '~100',\n",
       "  'default_dt': '0.05'}}"
      ]
     },
     "execution_count": 5,
     "metadata": {},
     "output_type": "execute_result"
    }
   ],
   "source": [
    "# print the models. Not using print() will maintain the dict structure, so we will just invoke the variable itself.\n",
    "models"
   ]
  },
  {
   "cell_type": "markdown",
   "id": "7b3f88b1",
   "metadata": {},
   "source": [
    "These models are slightly different in their interpretation of the Earth's interior. We can quickly hack together a function and a plot to show these differences. The models are available online as text files that we'll need to parse for the correct data."
   ]
  },
  {
   "cell_type": "code",
   "execution_count": 6,
   "id": "b7567393",
   "metadata": {},
   "outputs": [],
   "source": [
    "# define a function to parse the giant model text files\n",
    "def get_model(url):\n",
    "    \n",
    "    # read the text data from the URLs\n",
    "    data = requests.get(url).text\n",
    "    \n",
    "    # make an empty list to store results\n",
    "    d = []\n",
    "    \n",
    "    # loop through each line\n",
    "    for line in data.splitlines():\n",
    "        \n",
    "        # do some cleaning\n",
    "        line = line.strip()\n",
    "        \n",
    "        # ignore blanks or comments\n",
    "        if not line or line.startswith(\"#\"):\n",
    "            continue\n",
    "        \n",
    "        # split lines further\n",
    "        line = line.split()\n",
    "        \n",
    "        # skip short lines\n",
    "        if len(line) != 6:\n",
    "            continue\n",
    "        \n",
    "        # read in numbers as floats\n",
    "        line = [float(_i) for _i in line]\n",
    "        \n",
    "        # save a dictionary of model parameters to the data list\n",
    "        d.append({\"depth\": (6371000. - line[0]) / 1000.0,\n",
    "                  \"v_p\": line[2] / 1000.0,\n",
    "                  \"v_s\": line[3] / 1000.0,\n",
    "                  \"rho\": line[2] / 1000.0})\n",
    "    \n",
    "    # return the pandas dataframe\n",
    "    return pd.DataFrame(d)"
   ]
  },
  {
   "cell_type": "markdown",
   "id": "c0737100",
   "metadata": {},
   "source": [
    "We can now scrape the three parent models:"
   ]
  },
  {
   "cell_type": "code",
   "execution_count": 7,
   "id": "4795de9e",
   "metadata": {},
   "outputs": [],
   "source": [
    "# download and scrape the models' data\n",
    "ak135f = get_model(\"http://ds.iris.edu/media/product/emc-syngine/files/1dmodel_ak135f.txt\")\n",
    "prem = get_model(\"http://ds.iris.edu/media/product/emc-syngine/files/1dmodel_PREMiso.txt\")\n",
    "iasp91 = get_model(\"http://ds.iris.edu/media/product/emc-syngine/files/1dmodel_iasp91.txt\")"
   ]
  },
  {
   "cell_type": "markdown",
   "id": "7cc9eee1",
   "metadata": {},
   "source": [
    "Let's plot the models' data using some lovely matplotlib. This basically recreates the velocity/depth profiles from Montagner & Kennet (1996)."
   ]
  },
  {
   "cell_type": "code",
   "execution_count": 8,
   "id": "2890921d",
   "metadata": {},
   "outputs": [],
   "source": [
    "# write a function to plot profiles\n",
    "def plot_profile(index, depth_min, depth_max, v_min, v_max):\n",
    " \n",
    "    # plot the velocities and depth for each model\n",
    "    ax[index].plot(ak135f.v_p, ak135f.depth, color=\"0.0\", ls=\"-\", lw=2, label=\"ak135-F\")\n",
    "    ax[index].plot(ak135f.v_s, ak135f.depth, color=\"0.0\", ls=\"-\", lw=2)\n",
    "    ax[index].plot(iasp91.v_p, iasp91.depth, color=\"0.4\", ls=\"--\", lw=2, label=\"iasp91\")\n",
    "    ax[index].plot(iasp91.v_s, iasp91.depth, color=\"0.4\", ls=\"--\", lw=2)\n",
    "    ax[index].plot(prem.v_p, prem.depth, color=\"0.8\", ls=\":\", lw=2, label=\"PREM\")\n",
    "    ax[index].plot(prem.v_s, prem.depth, color=\"0.8\", ls=\":\", lw=2)\n",
    "\n",
    "    # set the labels\n",
    "    ax[index].set_ylabel(\"Depth (km)\")\n",
    "    ax[index].set_xlabel(\"Velocity (km/s)\")\n",
    "    ax[index].set_xticks([0, 2, 4, 6, 8, 10, 12])\n",
    "    ax[index].set_ylim(depth_min, depth_max)\n",
    "    ax[index].set_xlim(v_min, v_max)\n",
    "\n",
    "    # switch the ticks and labels to the left side\n",
    "    ax[index].yaxis.tick_right()\n",
    "    ax[index].yaxis.set_label_position(\"right\")\n",
    "    \n",
    "    # make the y axes descending\n",
    "    ax[index].invert_yaxis()"
   ]
  },
  {
   "cell_type": "code",
   "execution_count": 9,
   "id": "5c4a8b1b",
   "metadata": {},
   "outputs": [
    {
     "data": {
      "image/png": "[encoded data removed]",
      "text/plain": [
       "<Figure size 1440x576 with 4 Axes>"
      ]
     },
     "metadata": {
      "needs_background": "light"
     },
     "output_type": "display_data"
    }
   ],
   "source": [
    "# set up the plot\n",
    "fig = plt.figure(figsize=(20, 8))\n",
    "\n",
    "# set up the subplot layout\n",
    "ax = fig.subplots(nrows=1, ncols=4)\n",
    "    \n",
    "# plot the profiles\n",
    "plot_profile(0, 5, 6000, 0, 14)\n",
    "plot_profile(1, 2, 50, 2, 9)\n",
    "plot_profile(2, 2885, 2895, 0, 12)\n",
    "plot_profile(3, 5140, 5170, 0, 12)\n",
    "\n",
    "# add the legend\n",
    "ax[3].legend(loc=\"upper left\", fancybox=True, frameon=True)\n",
    "\n",
    "# show the composite plot\n",
    "plt.show();"
   ]
  },
  {
   "cell_type": "markdown",
   "id": "cab23884",
   "metadata": {},
   "source": [
    "We can now select the event we want to examine. We'll use [the largest earthquake so far in 2021](https://earthquake.usgs.gov/earthquakes/eventpage/us7000dflf/executive) ([alternate link](https://ds.iris.edu/spud/eventplot/18822380)): \n",
    "\n",
    "2021-03-04 19:28:33 M8.1 Kermadec Islands, New Zealand\n",
    "\n",
    "- 29.723°S, 177.279°W\n",
    "\n",
    "- 28.9 km depth"
   ]
  },
  {
   "cell_type": "code",
   "execution_count": 10,
   "id": "8ed13fa4",
   "metadata": {
    "scrolled": true
   },
   "outputs": [],
   "source": [
    "# load basic event information\n",
    "event_dict = {\"lat\": -29.723,\n",
    "              \"lon\": 177.279,\n",
    "              \"depth\": 28.9}\n",
    "\n",
    "# load the event IDs for later\n",
    "event_id_iris = \"18822380\"\n",
    "event_id = \"GCMT:C202103041928A\"\n",
    "\n",
    "# set the start and endtime, add a significant delay\n",
    "starttime = UTCDateTime(\"2021-03-04T19:41:33.000000Z\")\n",
    "endtime = UTCDateTime(\"2021-03-04T19:56:00.200000Z\")"
   ]
  },
  {
   "cell_type": "markdown",
   "id": "d763789c",
   "metadata": {},
   "source": [
    "For some reason, obspy will not take this event's ID, not sure what the root cause of the error is."
   ]
  },
  {
   "cell_type": "code",
   "execution_count": 11,
   "id": "10d5a4eb",
   "metadata": {},
   "outputs": [
    {
     "name": "stdout",
     "output_type": "stream",
     "text": [
      "Error: No data available for request.\n",
      "Detailed response of server:\n",
      "\n",
      "\n"
     ]
    }
   ],
   "source": [
    "# try getting the event by its ID\n",
    "try:\n",
    "    \n",
    "    # use the event ID from the IRIS page: https://ds.iris.edu/spud/eventplot/18822380\n",
    "    event = irisClient.get_events(eventid=event_id_iris, catalog=\"NEIC PDE\")\n",
    "\n",
    "# print the error\n",
    "except Exception as error:\n",
    "    print(\"Error:\", error)"
   ]
  },
  {
   "cell_type": "markdown",
   "id": "69503b45",
   "metadata": {},
   "source": [
    "With the correct imports ([Cartopy](https://scitools.org.uk/cartopy/docs/latest/)), you can rapidly generate overview plots. Let's examine all events on March 4th during the 15-minute window set above. Note that the obspy uses body magnitude (mb) for both querying and plotting."
   ]
  },
  {
   "cell_type": "code",
   "execution_count": null,
   "id": "29932163",
   "metadata": {
    "scrolled": false
   },
   "outputs": [],
   "source": [
    "# get all the events between our start and end times \n",
    "events = irisClient.get_events(starttime=starttime, endtime=endtime)\n",
    "\n",
    "# plot. Note the semicolon--it prevents auto-outputs with matplotlib in notebooks\n",
    "events.plot(projection=\"global\");"
   ]
  },
  {
   "cell_type": "markdown",
   "id": "c05ad372",
   "metadata": {},
   "source": [
    "Since we can't use the event ID, we can just set some very narrow query parameters to get our event."
   ]
  },
  {
   "cell_type": "code",
   "execution_count": null,
   "id": "def311dc",
   "metadata": {
    "scrolled": false
   },
   "outputs": [],
   "source": [
    "# use narrow time ranges to get the event we want\n",
    "event = irisClient.get_events(starttime=starttime, endtime=endtime, minmagnitude=5.5)\n",
    "\n",
    "# plot. Note the semicolon\n",
    "event.plot(projection=\"ortho\");"
   ]
  },
  {
   "cell_type": "markdown",
   "id": "fd068739",
   "metadata": {},
   "source": [
    "Load the [TauPyModel](https://docs.obspy.org/packages/obspy.taup.html) which was dervied from [Crotwell *et al*, 1999](https://pubs.geoscienceworld.org/ssa/srl/article-abstract/70/2/154/142385/The-TauP-Toolkit-Flexible-Seismic-Travel-time-and?redirectedFrom=fulltext).\n",
    "\n",
    "The package ships with 13 possible models (more than syngine has currently). Since we have three ak135 models in syngine we'll use that for visualization. You can also just call \"prem\" here, but there's virtually no difference for visual purposes."
   ]
  },
  {
   "cell_type": "code",
   "execution_count": null,
   "id": "cd50889c",
   "metadata": {},
   "outputs": [],
   "source": [
    "# set the model to use and intialize it\n",
    "tauModel = \"ak135\"\n",
    "model = TauPyModel(tauModel)"
   ]
  },
  {
   "cell_type": "markdown",
   "id": "33592c8b",
   "metadata": {},
   "source": [
    "Now that we have a model, we can [estimate the travel times](https://docs.obspy.org/sphinx3/packages/autogen/obspy.taup.tau.TauPyModel.get_travel_times_geo.html) for each arriving ray from our event to our station. This returns a chronological list of arrivals."
   ]
  },
  {
   "cell_type": "code",
   "execution_count": null,
   "id": "201cf791",
   "metadata": {},
   "outputs": [],
   "source": [
    "# get the travel times, use the station object and our event dictionary\n",
    "travel_time = model.get_travel_times_geo(source_depth_in_km=event_dict[\"depth\"], \n",
    "                                         source_latitude_in_deg=event_dict[\"lat\"],\n",
    "                                         source_longitude_in_deg=event_dict[\"lon\"], \n",
    "                                         receiver_latitude_in_deg=ANMO.latitude,\n",
    "                                         receiver_longitude_in_deg=ANMO.longitude)\n",
    "\n",
    "# print the travel times\n",
    "print(travel_time)"
   ]
  },
  {
   "cell_type": "markdown",
   "id": "e5389979",
   "metadata": {},
   "source": [
    "The [obspy.taup.tau.Arrivals class](https://docs.obspy.org/packages/autogen/obspy.taup.tau.Arrivals.html) is hard to work with, or maybe I'm missing something obvious. Here we'll just scrape out the phases so we can visualize them."
   ]
  },
  {
   "cell_type": "code",
   "execution_count": null,
   "id": "36811106",
   "metadata": {},
   "outputs": [],
   "source": [
    "# create an empty list to store phases\n",
    "phase_list = []\n",
    "\n",
    "# loop through the arrivals\n",
    "for time in travel_time:\n",
    "    \n",
    "    # split the output by spaces\n",
    "    split = str(time).split(\" \")\n",
    "    \n",
    "    # get the first item, the phase\n",
    "    phase = split[0]\n",
    "    \n",
    "    # add to to the phase list\n",
    "    phase_list.append(phase)"
   ]
  },
  {
   "cell_type": "markdown",
   "id": "e92fe215",
   "metadata": {},
   "source": [
    "We can also visualize the paths of these rays using an [another function](https://docs.obspy.org/packages/autogen/obspy.taup.tau.TauPyModel.get_ray_paths_geo.html). You can pass \"plot_all\" to this fucntion to see all the phases without the cell above, but now that we have a list of all the phases we can index and slice them if we want to."
   ]
  },
  {
   "cell_type": "code",
   "execution_count": null,
   "id": "953515c2",
   "metadata": {},
   "outputs": [],
   "source": [
    "# calculate the ray paths for 5 arrivals, use the same calls as above\n",
    "ray_paths = model.get_ray_paths_geo(source_depth_in_km=event_dict[\"depth\"], \n",
    "                                    source_latitude_in_deg=event_dict[\"lat\"],\n",
    "                                    source_longitude_in_deg=event_dict[\"lon\"], \n",
    "                                    receiver_latitude_in_deg=ANMO.latitude,\n",
    "                                    receiver_longitude_in_deg=ANMO.longitude,\n",
    "                                    phase_list=phase_list)"
   ]
  },
  {
   "cell_type": "code",
   "execution_count": null,
   "id": "9d1b5b84",
   "metadata": {
    "scrolled": false
   },
   "outputs": [],
   "source": [
    "# visualize the ray paths. Again note the semicolon.\n",
    "ray_paths.plot_rays();"
   ]
  },
  {
   "cell_type": "code",
   "execution_count": null,
   "id": "c70813d1",
   "metadata": {},
   "outputs": [],
   "source": [
    "# calculate the distance between the event and detection\n",
    "distance = locations2degrees(lat1=event_dict[\"lat\"], long1=event_dict[\"lon\"], \n",
    "                             lat2=ANMO.latitude, long2=ANMO.longitude)\n",
    "\n",
    "# print the results\n",
    "print(\"{} degrees.\".format(round(distance, 2)))"
   ]
  },
  {
   "cell_type": "markdown",
   "id": "7deb5f5d",
   "metadata": {},
   "source": [
    "We can now download waveform data for the event from each model using the syngine client function [get_waveforms](https://docs.obspy.org/packages/autogen/obspy.clients.syngine.client.Client.get_waveforms.html). This function is essentially the same as [obspy.clients.fdsn.client.Client.get_waveforms](https://docs.obspy.org/packages/autogen/obspy.clients.fdsn.client.Client.get_waveforms.html) so you will likely recognize the format."
   ]
  },
  {
   "cell_type": "code",
   "execution_count": null,
   "id": "0b1b4f20",
   "metadata": {},
   "outputs": [],
   "source": [
    "# select the component we want to model\n",
    "component = \"Z\"\n",
    "\n",
    "# set the sampling rate, only upsampling is allowed so must be equal to or larger than the instruments'\n",
    "sample_rate = 0.05\n",
    "\n",
    "# create an empty dictionary to store the results from each model\n",
    "data = {}\n",
    "\n",
    "# loop through the 9 available models\n",
    "for model in models.keys():\n",
    "    \n",
    "    # Add a printing call since these can take some time\n",
    "    print(\"Processing {}...\".format(model))\n",
    "    \n",
    "    # some of the models can fail for an unknown reason (related to the time interval?)\n",
    "    try:\n",
    "    \n",
    "        # download the data for each model into the dictionary\n",
    "        data[model] = client.get_waveforms(model=model, network=network, \n",
    "                                           station=station, components=component, \n",
    "                                           dt=sample_rate, eventid=event_id,\n",
    "                                           starttime=starttime, endtime=endtime)\n",
    "    # print the error if we hit one\n",
    "    except Exception as error:\n",
    "        print(\"Error in {}:\".format(model),  error)"
   ]
  },
  {
   "cell_type": "markdown",
   "id": "4debe60e",
   "metadata": {},
   "source": [
    "We can compare the model results to the real observation, so we need to collected the actual waveform from ANMO for this event."
   ]
  },
  {
   "cell_type": "code",
   "execution_count": null,
   "id": "53f68e96",
   "metadata": {},
   "outputs": [],
   "source": [
    "# initialize a stream\n",
    "stream = Stream()\n",
    "\n",
    "# we can use some of the same variables as above\n",
    "stream = irisClient.get_waveforms(network, station, \"00\", \"BHZ\", starttime, endtime)"
   ]
  },
  {
   "cell_type": "markdown",
   "id": "a4d0526f",
   "metadata": {},
   "source": [
    "Let's make sure the stream looks like it's correct."
   ]
  },
  {
   "cell_type": "code",
   "execution_count": null,
   "id": "eedaefca",
   "metadata": {
    "scrolled": true
   },
   "outputs": [],
   "source": [
    "# plot the stream\n",
    "stream.plot();"
   ]
  },
  {
   "cell_type": "markdown",
   "id": "89aa7cc4",
   "metadata": {},
   "source": [
    "That looks pretty good, but it's noisy, we can apply some basic filtering ([Butterworth-bandpass](https://docs.obspy.org/packages/autogen/obspy.signal.filter.bandpass.html)) to improve the results. Since we want to avoid filter ringing we'll modify the get_waveforms call above and trim the results."
   ]
  },
  {
   "cell_type": "code",
   "execution_count": null,
   "id": "b269bd69",
   "metadata": {
    "scrolled": false
   },
   "outputs": [],
   "source": [
    "# initialize another stream\n",
    "stream_proc = Stream()\n",
    "\n",
    "# overwrite the above stream, and request additional data at the start\n",
    "stream_proc = irisClient.get_waveforms(network, station, \"00\", \"BHZ\", starttime-20, endtime)\n",
    "\n",
    "# filter the stream with a basic bandpass filter\n",
    "stream_proc.filter(\"bandpass\", freqmin=0.05, freqmax=0.1)\n",
    "\n",
    "# trim the extra off the beginning\n",
    "stream_proc.trim(starttime, endtime)\n",
    "\n",
    "# plot the filtered results\n",
    "stream_proc.plot();"
   ]
  },
  {
   "cell_type": "markdown",
   "id": "ae5bdc8f",
   "metadata": {},
   "source": [
    "Note the change in the y-axis between the two plots, we'll have to account for these when we plot the streams together. Let's take a look at one of the synthetic waveforms."
   ]
  },
  {
   "cell_type": "code",
   "execution_count": null,
   "id": "6e6f62ca",
   "metadata": {},
   "outputs": [],
   "source": [
    "synth_example = data[\"ak135f_1s\"]\n",
    "\n",
    "# filter the stream with a basic bandpass filter\n",
    "synth_example.filter(\"bandpass\", freqmin=0.05, freqmax=0.1)\n",
    "\n",
    "synth_example.plot();"
   ]
  },
  {
   "cell_type": "code",
   "execution_count": null,
   "id": "fbea2a55",
   "metadata": {},
   "outputs": [],
   "source": [
    "# add the actual observations to our data dictionary\n",
    "data['Observed'] = stream"
   ]
  },
  {
   "cell_type": "markdown",
   "id": "a2e6827f",
   "metadata": {},
   "source": [
    "Time to do some plotting. Prepare yourself for a lot of matplotlib fun."
   ]
  },
  {
   "cell_type": "code",
   "execution_count": null,
   "id": "b4dac76b",
   "metadata": {},
   "outputs": [],
   "source": [
    "# set up the figure\n",
    "fig = plt.figure(figsize=(16, 6), tight_layout=True)\n",
    "\n",
    "# add our two subplots, this is the least gross way I know of\n",
    "ax = fig.subplots(nrows=1, ncols=2)\n",
    "\n",
    "# set a scale factor for the model traces\n",
    "factor = 1E3\n",
    "\n",
    "# set a factor to scale down the observed trace\n",
    "actual_factor = 1.5E-5\n",
    "\n",
    "# loop through our models\n",
    "for index, model in enumerate(sorted(data.keys())):\n",
    "    \n",
    "    # get the trace from the stored downloaded model data\n",
    "    tr = data[model][0]\n",
    "    \n",
    "    # apply the same bandpass filter to all waveforms\n",
    "    tr = tr.filter(\"bandpass\", freqmin=0.05, freqmax=0.1) # feel like this is probably wrong...\n",
    "    \n",
    "    # get the vertical position for the trace to be plotted (top to bottom)\n",
    "    pos = len(data) - index - 1\n",
    "    \n",
    "    # use different scaling and colors for the actual data\n",
    "    if model == \"Observed\":\n",
    "        \n",
    "        # plot the actual data\n",
    "        ax[0].plot(tr.times(), tr.data * actual_factor + pos, color=\"r\", lw=1)\n",
    "        ax[1].plot(tr.times(), tr.data * actual_factor + pos, color=\"r\", lw=1)\n",
    "\n",
    "    # plot the models\n",
    "    else:\n",
    "        \n",
    "        # plot the traces for each model\n",
    "        ax[0].plot(tr.times(), tr.data * factor + pos, color=\"k\", lw=1)\n",
    "        ax[1].plot(tr.times(), tr.data * factor + pos, color=\"0.1\", lw=1)\n",
    "    \n",
    "    # we need one line for each model\n",
    "    ax[0].set_yticks(list(range(len(data))))\n",
    "    ax[1].set_yticks(list(range(len(data))))\n",
    "    \n",
    "    # add grid\n",
    "    ax[0].xaxis.grid(True)\n",
    "    ax[1].xaxis.grid(True)\n",
    "    \n",
    "    # set the labels to be blank here\n",
    "    ax[0].set_yticklabels([\"\"] * len(data))\n",
    "    ax[1].set_yticklabels([\"\"] * len(data))\n",
    "    \n",
    "    # set labels\n",
    "    ax[0].set_xlabel(\"Time since event origin (s)\", fontsize=14)\n",
    "    ax[0].set_title(\"Body waves and inital surface waves\", fontsize=18)\n",
    "    ax[1].set_xlabel(\"Time since event origin (s)\", fontsize=14)\n",
    "    ax[1].set_title(\"First body waves?...\", fontsize=18)\n",
    "\n",
    "    # zoom in on the first body waves\n",
    "    ax[1].set_xlim(0, 300)\n",
    "    \n",
    "    # label the models\n",
    "    ax[0].text(0, pos, model, color=\"white\",\n",
    "             bbox=dict(facecolor=\"black\", edgecolor=\"None\"),\n",
    "             ha=\"right\", fontsize=14)\n",
    "\n",
    "# save and display the figure\n",
    "plt.savefig(\"syngine_compare_models.png\", dpi=300, facecolor=\"white\")\n",
    "plt.show()"
   ]
  }
 ],
 "metadata": {
  "kernelspec": {
   "display_name": "Python 3",
   "language": "python",
   "name": "python3"
  },
  "language_info": {
   "codemirror_mode": {
    "name": "ipython",
    "version": 3
   },
   "file_extension": ".py",
   "mimetype": "text/x-python",
   "name": "python",
   "nbconvert_exporter": "python",
   "pygments_lexer": "ipython3",
   "version": "3.8.10"
  }
 },
 "nbformat": 4,
 "nbformat_minor": 5
}
