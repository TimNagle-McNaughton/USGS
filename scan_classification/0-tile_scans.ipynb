{
 "cells": [
  {
   "cell_type": "code",
   "execution_count": 1,
   "id": "7a9e4786",
   "metadata": {},
   "outputs": [],
   "source": [
    "import os\n",
    "import glob\n",
    "import cv2\n",
    "import math\n",
    "import numpy as np\n",
    "from PIL import Image\n",
    "import matplotlib.pyplot as plt\n",
    "from IPython.display import clear_output\n",
    "\n",
    "%matplotlib inline"
   ]
  },
  {
   "cell_type": "code",
   "execution_count": 2,
   "id": "0fe470bb",
   "metadata": {},
   "outputs": [],
   "source": [
    "# set file paths\n",
    "path = r\"E:/USGS/scans_SH/\"\n",
    "tile_path = r\"E:/USGS/tiles/\""
   ]
  },
  {
   "cell_type": "code",
   "execution_count": 3,
   "id": "b1dbd7ec",
   "metadata": {
    "scrolled": false
   },
   "outputs": [],
   "source": [
    "# make a giant gross function to do all the tiling\n",
    "def tile_image(source_path, output_path, desired_samples_per_image, desired_tile_dimension):\n",
    "\n",
    "    # get a list to process\n",
    "    images_to_process = glob.glob(source_path + '*.TIFF')\n",
    "\n",
    "    # loop through all the images\n",
    "    for image in images_to_process:\n",
    "\n",
    "        # get the image name (adjust if path changes, PLEASE READ THIS TIM)\n",
    "        image_name = image[len(source_path):-5]\n",
    "\n",
    "        # open the file\n",
    "        img = Image.open(image)\n",
    "\n",
    "        # get the dimensions of the image\n",
    "        imageWidth, imageHeight = img.size\n",
    "\n",
    "        # sets the x and y ranges \n",
    "        rangex = math.ceil(imageWidth / desired_tile_dimension)\n",
    "        rangey = math.ceil(imageHeight / desired_tile_dimension)\n",
    "        total_frames = rangex * rangey\n",
    "\n",
    "        # make a list of random samples to crop\n",
    "        random_sample_list = []\n",
    "        number_of_samples = len(random_sample_list)\n",
    "        \n",
    "        # make a counter for attempts, used to escape loop if not enough tiles can be made\n",
    "        samples_attempted = 0 \n",
    "        \n",
    "        # set a hard limit on the number of attempts, sometimes images just don't have enough \n",
    "        # samples. This limit should be increased if not enough samples are generated. Sometimes\n",
    "        # there will be large memory usage however.\n",
    "        while number_of_samples < desired_samples_per_image and samples_attempted < 100*desired_samples_per_image: \n",
    "\n",
    "            # get random x and y coordinates to sample, stay away from the edges of the scan\n",
    "            rand_x = np.random.randint(4, rangex-4)\n",
    "            rand_y = np.random.randint(6, rangey-6)\n",
    "\n",
    "            # set the save name\n",
    "            padding_x_zeros = len(str(rangex))\n",
    "            padding_y_zeros = len(str(rangey))\n",
    "            filename = '{}_{}_{}.png'.format(image_name, str(rand_y).zfill(padding_y_zeros), str(rand_x).zfill(padding_x_zeros))\n",
    "\n",
    "            # proceed if it's a new tile\n",
    "            if os.path.exists(output_path + filename) == False:\n",
    "\n",
    "                # set the crop coordinates. box = (<start x>, <start y>, <end x>, <end y>)\n",
    "                box = (rand_x*desired_tile_dimension, \n",
    "                       rand_y*desired_tile_dimension, \n",
    "                       rand_x*desired_tile_dimension+desired_tile_dimension, \n",
    "                       rand_y*desired_tile_dimension+desired_tile_dimension)\n",
    "\n",
    "                # crop each tile\n",
    "                tile = img.crop(box)\n",
    "                \n",
    "                # get the image as an array\n",
    "                tile_array = np.asarray(tile)\n",
    "                \n",
    "             \n",
    "                # convert to binary\n",
    "                ret, binary_tile = cv2.threshold(tile_array, 127, 255, cv2.THRESH_BINARY)\n",
    "\n",
    "                # ignore mostly white images\n",
    "                if np.sum(binary_tile)/255 > 0.95*desired_tile_dimension*desired_tile_dimension:\n",
    "                    samples_attempted += 1\n",
    "            \n",
    "                # ignore mostly black images\n",
    "                elif np.sum(binary_tile)/255 < 0.7*desired_tile_dimension*desired_tile_dimension:\n",
    "                    samples_attempted += 1\n",
    "                \n",
    "                # process the rest\n",
    "                else:\n",
    "                \n",
    "                    # convert to an image\n",
    "                    save_binary = Image.fromarray(binary_tile)\n",
    "\n",
    "                    # save the tile to a log\n",
    "                    with open(output_path + 'tile_log.csv', 'a') as outfile:\n",
    "                        outfile.write('{}, {}, {}\\n'.format(image_name, rand_x, rand_y))\n",
    "\n",
    "                    # save the file\n",
    "                    save_path = os.path.join(output_path, filename)\n",
    "                    save_binary.save(save_path, optimize=False)\n",
    "\n",
    "                    # update counter\n",
    "                    number_of_samples += 1\n",
    "                    samples_attempted += 1\n",
    "\n",
    "                    print('{}: {}%'.format(image_name, round(100*number_of_samples/desired_samples_per_image), 2))\n",
    "                    clear_output(wait=True)\n",
    "\n",
    "        \n",
    "    print('Completed')"
   ]
  },
  {
   "cell_type": "code",
   "execution_count": 4,
   "id": "99b9290e",
   "metadata": {
    "scrolled": true
   },
   "outputs": [
    {
     "name": "stdout",
     "output_type": "stream",
     "text": [
      "Completed\n"
     ]
    }
   ],
   "source": [
    "tile_image(path, tile_path, 50, 200)"
   ]
  }
 ],
 "metadata": {
  "kernelspec": {
   "display_name": "Python 3",
   "language": "python",
   "name": "python3"
  },
  "language_info": {
   "codemirror_mode": {
    "name": "ipython",
    "version": 3
   },
   "file_extension": ".py",
   "mimetype": "text/x-python",
   "name": "python",
   "nbconvert_exporter": "python",
   "pygments_lexer": "ipython3",
   "version": "3.8.10"
  }
 },
 "nbformat": 4,
 "nbformat_minor": 5
}
