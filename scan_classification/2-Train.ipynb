{
 "cells": [
  {
   "cell_type": "code",
   "execution_count": 2,
   "id": "9c8d52c2",
   "metadata": {},
   "outputs": [],
   "source": [
    "import time\n",
    "import csv\n",
    "import numpy as np\n",
    "from tqdm import tqdm\n",
    "from PIL import Image\n",
    "\n",
    "import seaborn as sn\n",
    "import matplotlib.pyplot as plt\n",
    "\n",
    "from sklearn.model_selection import train_test_split\n",
    "from sklearn.metrics import confusion_matrix\n",
    "from sklearn.metrics import classification_report\n",
    "\n",
    "from keras.optimizers import Adam\n",
    "from keras.callbacks import ModelCheckpoint\n",
    "from keras.models import Sequential\n",
    "from keras.layers import Conv2D, MaxPool2D, Flatten, Dense, InputLayer, BatchNormalization, Dropout\n",
    "from keras.utils import np_utils\n",
    "from keras.models import load_model\n",
    "from keras.preprocessing.image import ImageDataGenerator"
   ]
  },
  {
   "cell_type": "code",
   "execution_count": 3,
   "id": "173abf64",
   "metadata": {},
   "outputs": [],
   "source": [
    "%matplotlib inline"
   ]
  },
  {
   "cell_type": "code",
   "execution_count": 4,
   "id": "57648ae0",
   "metadata": {},
   "outputs": [],
   "source": [
    "# set path parameters\n",
    "tile_path = r'E:/USGS/tiles/'\n",
    "checkpoint_path = r'E:/USGS/checkpoints/'\n",
    "\n",
    "# set the split for train/test\n",
    "test_fraction = 0.2\n",
    "\n",
    "# set the number of classes to classify\n",
    "n_classes = 4\n",
    "\n",
    "# set the confidence threshold for the network\n",
    "threshold = 0.85"
   ]
  },
  {
   "cell_type": "code",
   "execution_count": 5,
   "id": "dc792820",
   "metadata": {},
   "outputs": [],
   "source": [
    "# load the raw csv datasets\n",
    "with open(tile_path + 'tiles.csv', newline='') as f:\n",
    "    reader = csv.reader(f)\n",
    "    tile_list = np.array(list(reader))\n",
    "\n",
    "with open(tile_path + 'classes.csv', newline='') as f:\n",
    "    reader = csv.reader(f)\n",
    "    labels = np.array(list(reader))"
   ]
  },
  {
   "cell_type": "code",
   "execution_count": 6,
   "id": "a022b250",
   "metadata": {
    "scrolled": true
   },
   "outputs": [
    {
     "name": "stderr",
     "output_type": "stream",
     "text": [
      "100%|███████████████████████████████████████████████████████████████████████████| 18154/18154 [01:01<00:00, 297.45it/s]\n"
     ]
    }
   ],
   "source": [
    "# list to save arrays\n",
    "tile_vector = []\n",
    "\n",
    "# loop through the tiles and convert to vectors\n",
    "for index in tqdm(range(0, len(tile_list))):\n",
    "    \n",
    "    tile = tile_list[index]\n",
    "    \n",
    "    # open the tile, convert to an array\n",
    "    image = Image.open(tile[0])\n",
    "    array = np.asarray(image)\n",
    "    \n",
    "    # scale each array to be between 0 and 1\n",
    "    array = array/255\n",
    "    \n",
    "    # reshape it\n",
    "    array = np.expand_dims(array, axis=2)\n",
    "    \n",
    "    # save to the list\n",
    "    tile_vector.append(array)\n",
    "\n",
    "# convert the list to an array\n",
    "tile_vector = np.array(tile_vector)"
   ]
  },
  {
   "cell_type": "code",
   "execution_count": 7,
   "id": "cb398d10",
   "metadata": {},
   "outputs": [],
   "source": [
    "# split the data into train and test\n",
    "feature_train, feature_test, label_train, label_test = train_test_split(tile_vector, \n",
    "                                                                        labels, \n",
    "                                                                        test_size=test_fraction, \n",
    "                                                                        random_state=6, \n",
    "                                                                        shuffle=True)"
   ]
  },
  {
   "cell_type": "code",
   "execution_count": 8,
   "id": "d54aaa10",
   "metadata": {
    "scrolled": true
   },
   "outputs": [
    {
     "name": "stdout",
     "output_type": "stream",
     "text": [
      "Shape before one-hot encoding: (14523, 1)\n",
      "Shape after one-hot encoding: (14523, 4)\n"
     ]
    }
   ],
   "source": [
    "print('Shape before one-hot encoding:', label_train.shape)\n",
    "\n",
    "# use one-hot encoding via keras \n",
    "label_train = np_utils.to_categorical(label_train, n_classes)\n",
    "label_test = np_utils.to_categorical(label_test, n_classes)\n",
    "\n",
    "print('Shape after one-hot encoding:', label_train.shape)"
   ]
  },
  {
   "cell_type": "code",
   "execution_count": 9,
   "id": "337fe245",
   "metadata": {},
   "outputs": [],
   "source": [
    "# set up augmentation to randomly flip tiles\n",
    "datagen = ImageDataGenerator(horizontal_flip=True, vertical_flip=True)\n",
    "\n",
    "# create the iterator\n",
    "augmented_train = datagen.flow(feature_train, label_train)"
   ]
  },
  {
   "cell_type": "code",
   "execution_count": 16,
   "id": "b113b843",
   "metadata": {
    "scrolled": false
   },
   "outputs": [
    {
     "name": "stdout",
     "output_type": "stream",
     "text": [
      "Model: \"sequential_1\"\n",
      "_________________________________________________________________\n",
      "Layer (type)                 Output Shape              Param #   \n",
      "=================================================================\n",
      "conv2d_3 (Conv2D)            (None, 200, 200, 32)      832       \n",
      "_________________________________________________________________\n",
      "max_pooling2d_3 (MaxPooling2 (None, 100, 100, 32)      0         \n",
      "_________________________________________________________________\n",
      "conv2d_4 (Conv2D)            (None, 50, 50, 64)        51264     \n",
      "_________________________________________________________________\n",
      "max_pooling2d_4 (MaxPooling2 (None, 25, 25, 64)        0         \n",
      "_________________________________________________________________\n",
      "batch_normalization_2 (Batch (None, 25, 25, 64)        256       \n",
      "_________________________________________________________________\n",
      "conv2d_5 (Conv2D)            (None, 13, 13, 128)       73856     \n",
      "_________________________________________________________________\n",
      "max_pooling2d_5 (MaxPooling2 (None, 6, 6, 128)         0         \n",
      "_________________________________________________________________\n",
      "batch_normalization_3 (Batch (None, 6, 6, 128)         512       \n",
      "_________________________________________________________________\n",
      "flatten_1 (Flatten)          (None, 4608)              0         \n",
      "_________________________________________________________________\n",
      "dense_3 (Dense)              (None, 100)               460900    \n",
      "_________________________________________________________________\n",
      "dense_4 (Dense)              (None, 100)               10100     \n",
      "_________________________________________________________________\n",
      "dropout_1 (Dropout)          (None, 100)               0         \n",
      "_________________________________________________________________\n",
      "dense_5 (Dense)              (None, 4)                 404       \n",
      "=================================================================\n",
      "Total params: 598,124\n",
      "Trainable params: 597,740\n",
      "Non-trainable params: 384\n",
      "_________________________________________________________________\n"
     ]
    }
   ],
   "source": [
    "# build a sequential CNN\n",
    "model = Sequential()\n",
    "model.add(InputLayer(input_shape=(array.shape[0], array.shape[0], 1)))\n",
    "\n",
    "# 1st conv block\n",
    "model.add(Conv2D(32, (5, 5), activation='relu', strides=(1, 1), padding='same'))\n",
    "model.add(MaxPool2D(pool_size=(2, 2), padding='same'))\n",
    "\n",
    "# 2nd conv block\n",
    "model.add(Conv2D(64, (5, 5), activation='relu', strides=(2, 2), padding='same'))\n",
    "model.add(MaxPool2D(pool_size=(2, 2), padding='same'))\n",
    "model.add(BatchNormalization())\n",
    "\n",
    "# 3rd conv block\n",
    "model.add(Conv2D(128, (3, 3), activation='relu', strides=(2, 2), padding='same'))\n",
    "model.add(MaxPool2D(pool_size=(2, 2), padding='valid'))\n",
    "model.add(BatchNormalization())\n",
    "\n",
    "# ANN block\n",
    "model.add(Flatten())\n",
    "model.add(Dense(units=100, activation='relu'))\n",
    "model.add(Dense(units=100, activation='relu'))\n",
    "\n",
    "# set a dropout to avoid overfitting, the fraction represents values reset after every epoch\n",
    "model.add(Dropout(0.4))\n",
    "\n",
    "# output layer\n",
    "model.add(Dense(units=n_classes, activation='softmax'))\n",
    "\n",
    "# print the architecture\n",
    "model.summary()"
   ]
  },
  {
   "cell_type": "code",
   "execution_count": 17,
   "id": "291c3cf1",
   "metadata": {},
   "outputs": [],
   "source": [
    "# set the optimizer function\n",
    "opt = Adam(learning_rate=0.00001)\n",
    "\n",
    "# compiling the sequential model\n",
    "model.compile(loss='categorical_crossentropy', metrics=['accuracy'], optimizer=opt)"
   ]
  },
  {
   "cell_type": "code",
   "execution_count": 18,
   "id": "d8c5ba83",
   "metadata": {},
   "outputs": [],
   "source": [
    "# set the model to save the best results as determined from the validation accuracy\n",
    "model_checkpoint_callback = ModelCheckpoint(filepath=checkpoint_path,\n",
    "                                            save_weights_only=False,\n",
    "                                            monitor='val_accuracy',\n",
    "                                            mode='max',\n",
    "                                            save_best_only=True)"
   ]
  },
  {
   "cell_type": "code",
   "execution_count": 21,
   "id": "59583539",
   "metadata": {
    "scrolled": true
   },
   "outputs": [
    {
     "name": "stdout",
     "output_type": "stream",
     "text": [
      "Epoch 1/50\n",
      "454/454 [==============================] - 160s 353ms/step - loss: 0.4835 - accuracy: 0.8140 - val_loss: 0.4977 - val_accuracy: 0.8069\n",
      "Epoch 2/50\n",
      "454/454 [==============================] - 161s 354ms/step - loss: 0.4743 - accuracy: 0.8199 - val_loss: 0.4984 - val_accuracy: 0.8012\n",
      "Epoch 3/50\n",
      "454/454 [==============================] - 161s 354ms/step - loss: 0.4705 - accuracy: 0.8186 - val_loss: 0.4909 - val_accuracy: 0.8102\n",
      "Epoch 4/50\n",
      "454/454 [==============================] - 161s 354ms/step - loss: 0.4681 - accuracy: 0.8201 - val_loss: 0.4935 - val_accuracy: 0.8130\n",
      "INFO:tensorflow:Assets written to: E:/USGS/checkpoints\\assets\n",
      "Epoch 5/50\n",
      "454/454 [==============================] - 158s 348ms/step - loss: 0.4643 - accuracy: 0.8206 - val_loss: 0.4910 - val_accuracy: 0.8075\n",
      "Epoch 6/50\n",
      "454/454 [==============================] - 159s 349ms/step - loss: 0.4566 - accuracy: 0.8235 - val_loss: 0.4864 - val_accuracy: 0.8169\n",
      "INFO:tensorflow:Assets written to: E:/USGS/checkpoints\\assets\n",
      "Epoch 7/50\n",
      "454/454 [==============================] - 164s 362ms/step - loss: 0.4621 - accuracy: 0.8206 - val_loss: 0.4951 - val_accuracy: 0.8042\n",
      "Epoch 8/50\n",
      "454/454 [==============================] - 164s 362ms/step - loss: 0.4509 - accuracy: 0.8266 - val_loss: 0.4957 - val_accuracy: 0.8036\n",
      "Epoch 9/50\n",
      "454/454 [==============================] - 164s 362ms/step - loss: 0.4392 - accuracy: 0.8346 - val_loss: 0.4939 - val_accuracy: 0.8069\n",
      "Epoch 10/50\n",
      "454/454 [==============================] - 165s 363ms/step - loss: 0.4386 - accuracy: 0.8312 - val_loss: 0.4841 - val_accuracy: 0.8122\n",
      "Epoch 11/50\n",
      "454/454 [==============================] - 165s 362ms/step - loss: 0.4389 - accuracy: 0.8287 - val_loss: 0.4876 - val_accuracy: 0.8127\n",
      "Epoch 12/50\n",
      "454/454 [==============================] - 164s 362ms/step - loss: 0.4298 - accuracy: 0.8359 - val_loss: 0.4781 - val_accuracy: 0.8196\n",
      "INFO:tensorflow:Assets written to: E:/USGS/checkpoints\\assets\n",
      "Epoch 13/50\n",
      "454/454 [==============================] - 163s 359ms/step - loss: 0.4271 - accuracy: 0.8356 - val_loss: 0.4795 - val_accuracy: 0.8138\n",
      "Epoch 14/50\n",
      "454/454 [==============================] - 163s 359ms/step - loss: 0.4227 - accuracy: 0.8397 - val_loss: 0.5048 - val_accuracy: 0.8105\n",
      "Epoch 15/50\n",
      "454/454 [==============================] - 163s 359ms/step - loss: 0.4183 - accuracy: 0.8338 - val_loss: 0.4767 - val_accuracy: 0.8155\n",
      "Epoch 16/50\n",
      "454/454 [==============================] - 163s 359ms/step - loss: 0.4151 - accuracy: 0.8414 - val_loss: 0.4791 - val_accuracy: 0.8124\n",
      "Epoch 17/50\n",
      "454/454 [==============================] - 163s 360ms/step - loss: 0.4076 - accuracy: 0.8437 - val_loss: 0.4931 - val_accuracy: 0.8031\n",
      "Epoch 18/50\n",
      "454/454 [==============================] - 163s 360ms/step - loss: 0.4126 - accuracy: 0.8400 - val_loss: 0.4720 - val_accuracy: 0.8169\n",
      "Epoch 19/50\n",
      "454/454 [==============================] - 163s 360ms/step - loss: 0.4107 - accuracy: 0.8423 - val_loss: 0.4728 - val_accuracy: 0.8188\n",
      "Epoch 20/50\n",
      "454/454 [==============================] - 163s 360ms/step - loss: 0.4010 - accuracy: 0.8423 - val_loss: 0.4808 - val_accuracy: 0.8163\n",
      "Epoch 21/50\n",
      "454/454 [==============================] - 163s 360ms/step - loss: 0.4024 - accuracy: 0.8409 - val_loss: 0.5015 - val_accuracy: 0.7998\n",
      "Epoch 22/50\n",
      "454/454 [==============================] - 163s 360ms/step - loss: 0.4028 - accuracy: 0.8447 - val_loss: 0.5957 - val_accuracy: 0.7640\n",
      "Epoch 23/50\n",
      "454/454 [==============================] - 163s 360ms/step - loss: 0.3879 - accuracy: 0.8496 - val_loss: 0.4721 - val_accuracy: 0.8171\n",
      "Epoch 24/50\n",
      "454/454 [==============================] - 163s 360ms/step - loss: 0.3807 - accuracy: 0.8499 - val_loss: 0.4870 - val_accuracy: 0.8042\n",
      "Epoch 25/50\n",
      "454/454 [==============================] - 163s 360ms/step - loss: 0.3852 - accuracy: 0.8549 - val_loss: 0.5076 - val_accuracy: 0.8100\n",
      "Epoch 26/50\n",
      "454/454 [==============================] - 163s 360ms/step - loss: 0.3845 - accuracy: 0.8537 - val_loss: 0.4770 - val_accuracy: 0.8122\n",
      "Epoch 27/50\n",
      "454/454 [==============================] - 163s 360ms/step - loss: 0.3740 - accuracy: 0.8574 - val_loss: 0.4796 - val_accuracy: 0.8188\n",
      "Epoch 28/50\n",
      "454/454 [==============================] - 163s 360ms/step - loss: 0.3765 - accuracy: 0.8565 - val_loss: 0.4882 - val_accuracy: 0.8105\n",
      "Epoch 29/50\n",
      "454/454 [==============================] - 163s 360ms/step - loss: 0.3679 - accuracy: 0.8586 - val_loss: 0.4667 - val_accuracy: 0.8204\n",
      "INFO:tensorflow:Assets written to: E:/USGS/checkpoints\\assets\n",
      "Epoch 30/50\n",
      "454/454 [==============================] - 167s 368ms/step - loss: 0.3627 - accuracy: 0.8561 - val_loss: 0.4704 - val_accuracy: 0.8152\n",
      "Epoch 31/50\n",
      "454/454 [==============================] - 167s 368ms/step - loss: 0.3667 - accuracy: 0.8589 - val_loss: 0.5102 - val_accuracy: 0.7959\n",
      "Epoch 32/50\n",
      "454/454 [==============================] - 167s 368ms/step - loss: 0.3619 - accuracy: 0.8606 - val_loss: 0.4809 - val_accuracy: 0.8174\n",
      "Epoch 33/50\n",
      "454/454 [==============================] - 167s 368ms/step - loss: 0.3552 - accuracy: 0.8617 - val_loss: 0.4712 - val_accuracy: 0.8152\n",
      "Epoch 34/50\n",
      "454/454 [==============================] - 167s 368ms/step - loss: 0.3523 - accuracy: 0.8656 - val_loss: 0.4891 - val_accuracy: 0.8152\n",
      "Epoch 35/50\n",
      "454/454 [==============================] - 167s 368ms/step - loss: 0.3432 - accuracy: 0.8658 - val_loss: 0.4726 - val_accuracy: 0.8221\n",
      "INFO:tensorflow:Assets written to: E:/USGS/checkpoints\\assets\n",
      "Epoch 36/50\n",
      "454/454 [==============================] - 167s 368ms/step - loss: 0.3484 - accuracy: 0.8649 - val_loss: 0.4786 - val_accuracy: 0.8149\n",
      "Epoch 37/50\n",
      "454/454 [==============================] - 167s 367ms/step - loss: 0.3433 - accuracy: 0.8668 - val_loss: 0.4828 - val_accuracy: 0.8149\n",
      "Epoch 38/50\n",
      "454/454 [==============================] - 167s 368ms/step - loss: 0.3409 - accuracy: 0.8661 - val_loss: 0.4725 - val_accuracy: 0.8127\n",
      "Epoch 39/50\n",
      "454/454 [==============================] - 167s 368ms/step - loss: 0.3435 - accuracy: 0.8661 - val_loss: 0.5131 - val_accuracy: 0.8086\n",
      "Epoch 40/50\n",
      "454/454 [==============================] - 167s 367ms/step - loss: 0.3396 - accuracy: 0.8692 - val_loss: 0.4768 - val_accuracy: 0.8144\n",
      "Epoch 41/50\n",
      "454/454 [==============================] - 167s 367ms/step - loss: 0.3318 - accuracy: 0.8730 - val_loss: 0.4844 - val_accuracy: 0.8185\n",
      "Epoch 42/50\n",
      "454/454 [==============================] - 167s 367ms/step - loss: 0.3311 - accuracy: 0.8773 - val_loss: 0.4706 - val_accuracy: 0.8135\n",
      "Epoch 43/50\n",
      "454/454 [==============================] - 167s 367ms/step - loss: 0.3300 - accuracy: 0.8727 - val_loss: 0.4833 - val_accuracy: 0.8155\n",
      "Epoch 44/50\n",
      "454/454 [==============================] - 167s 367ms/step - loss: 0.3162 - accuracy: 0.8802 - val_loss: 0.6617 - val_accuracy: 0.7656\n",
      "Epoch 45/50\n",
      "454/454 [==============================] - 168s 371ms/step - loss: 0.3179 - accuracy: 0.8768 - val_loss: 0.4719 - val_accuracy: 0.8193\n",
      "Epoch 46/50\n",
      "454/454 [==============================] - 170s 375ms/step - loss: 0.3120 - accuracy: 0.8804 - val_loss: 0.4946 - val_accuracy: 0.8185\n",
      "Epoch 47/50\n",
      "454/454 [==============================] - 169s 371ms/step - loss: 0.3152 - accuracy: 0.8785 - val_loss: 0.4926 - val_accuracy: 0.8067\n",
      "Epoch 48/50\n",
      "454/454 [==============================] - 166s 366ms/step - loss: 0.3137 - accuracy: 0.8811 - val_loss: 0.4751 - val_accuracy: 0.8180\n",
      "Epoch 49/50\n",
      "454/454 [==============================] - 169s 371ms/step - loss: 0.3125 - accuracy: 0.8814 - val_loss: 0.4975 - val_accuracy: 0.8133\n",
      "Epoch 50/50\n",
      "454/454 [==============================] - 170s 375ms/step - loss: 0.3057 - accuracy: 0.8833 - val_loss: 0.4901 - val_accuracy: 0.8158\n"
     ]
    }
   ],
   "source": [
    "# training the model for 10 epochs\n",
    "history = model.fit(augmented_train,\n",
    "                    shuffle=True, \n",
    "                    epochs=50, \n",
    "                    validation_data=(feature_test, label_test),\n",
    "                    callbacks=[model_checkpoint_callback])"
   ]
  },
  {
   "cell_type": "markdown",
   "id": "c959ae6e",
   "metadata": {},
   "source": [
    "Trained for 50 epochs, peaked at 35.\n",
    "\n",
    "----\n",
    "\n",
    "loss: 0.3432 \n",
    "\n",
    "accuracy: 0.8658 \n",
    "\n",
    "----\n",
    "\n",
    "val_loss: 0.4726\n",
    "\n",
    "val_accuracy: 0.8221"
   ]
  },
  {
   "cell_type": "code",
   "execution_count": null,
   "id": "7fa4925c",
   "metadata": {},
   "outputs": [],
   "source": [
    "# plot the training progress from the history object\n",
    "plt.plot(history.history['accuracy'], label='accuracy')\n",
    "plt.plot(history.history['val_accuracy'], label = 'val_accuracy')\n",
    "\n",
    "# set labels\n",
    "plt.xlabel('Epoch')\n",
    "plt.ylabel('Accuracy')\n",
    "\n",
    "# set other parameters\n",
    "plt.ylim([0.2, 1])\n",
    "plt.legend(loc='lower right')\n",
    "\n",
    "plt.show();"
   ]
  },
  {
   "cell_type": "code",
   "execution_count": null,
   "id": "098a5d3f",
   "metadata": {
    "scrolled": true
   },
   "outputs": [],
   "source": [
    "# plot the training progress from the history object\n",
    "plt.plot(history.history['loss'], label='loss')\n",
    "plt.plot(history.history['val_loss'], label = 'val_loss')\n",
    "\n",
    "# set labels\n",
    "plt.xlabel('Epoch')\n",
    "plt.ylabel('Loss')\n",
    "\n",
    "# set other parameters\n",
    "plt.ylim([0, 1])\n",
    "plt.legend(loc='lower right')\n",
    "\n",
    "plt.show();"
   ]
  },
  {
   "cell_type": "code",
   "execution_count": 8,
   "id": "22d7888d",
   "metadata": {},
   "outputs": [],
   "source": [
    "# load best model\n",
    "model = load_model(checkpoint_path)"
   ]
  },
  {
   "cell_type": "code",
   "execution_count": 25,
   "id": "8f849a0f",
   "metadata": {
    "scrolled": false
   },
   "outputs": [
    {
     "name": "stdout",
     "output_type": "stream",
     "text": [
      "Model predicts at 447 tiles/second.\n"
     ]
    }
   ],
   "source": [
    "# set the start time\n",
    "start_time = time.time()\n",
    "\n",
    "# generate predictions\n",
    "predictions = model.predict(feature_test)\n",
    "\n",
    "# get the end time\n",
    "end_time = time.time()\n",
    "\n",
    "# print results\n",
    "print('Model predicts at {} tiles/second.'.format(round(len(predictions)/(end_time-start_time))))"
   ]
  },
  {
   "cell_type": "code",
   "execution_count": 11,
   "id": "513d02fb",
   "metadata": {},
   "outputs": [],
   "source": [
    "# convert predictions and truth values to lists\n",
    "test_prediction_list = []\n",
    "label_test_list = []\n",
    "\n",
    "# add to list\n",
    "for result in predictions:\n",
    "    test_prediction_list.append(np.where(result == np.max(result))[0][0])\n",
    "\n",
    "# add to list\n",
    "for label in label_test:\n",
    "    label_test_list.append(np.where(label == np.max(label))[0][0])"
   ]
  },
  {
   "cell_type": "markdown",
   "id": "5dff46da",
   "metadata": {},
   "source": [
    "## Overall metrics"
   ]
  },
  {
   "cell_type": "code",
   "execution_count": 13,
   "id": "f34535f9",
   "metadata": {},
   "outputs": [
    {
     "name": "stdout",
     "output_type": "stream",
     "text": [
      "              precision    recall  f1-score   support\n",
      "\n",
      "           0       0.84      0.88      0.86      1309\n",
      "           1       0.85      0.82      0.83      1666\n",
      "           2       0.72      0.76      0.74       618\n",
      "           3       1.00      0.00      0.00        38\n",
      "\n",
      "    accuracy                           0.82      3631\n",
      "   macro avg       0.85      0.61      0.61      3631\n",
      "weighted avg       0.82      0.82      0.82      3631\n",
      "\n"
     ]
    }
   ],
   "source": [
    "# generate the standard classification report\n",
    "class_report_all = classification_report(label_test_list, test_prediction_list, zero_division=1)\n",
    "print(class_report_all)"
   ]
  },
  {
   "cell_type": "code",
   "execution_count": 19,
   "id": "6c4e9ee2",
   "metadata": {
    "scrolled": false
   },
   "outputs": [
    {
     "data": {
      "image/png": "[encoded data removed]",
      "text/plain": [
       "<Figure size 576x576 with 2 Axes>"
      ]
     },
     "metadata": {
      "needs_background": "light"
     },
     "output_type": "display_data"
    }
   ],
   "source": [
    "# generate confusion matrix\n",
    "cm = confusion_matrix(test_prediction_list, label_test_list)\n",
    "\n",
    "# set basic figure parameters\n",
    "fig, axes = plt.subplots(nrows=1, ncols=1, figsize=(8, 8), constrained_layout=True)\n",
    "\n",
    "# change the labels\n",
    "x_axis_labels = ['none', 'minor', 'major', 'ignore']\n",
    "y_axis_labels = ['none', 'minor', 'major', 'ignore']\n",
    "\n",
    "# plot the heatmaps\n",
    "sn.heatmap(cm, annot=True, ax=axes, xticklabels=x_axis_labels, yticklabels=y_axis_labels, fmt='g')\n",
    "\n",
    "plt.show()"
   ]
  },
  {
   "cell_type": "markdown",
   "id": "892b3a8d",
   "metadata": {},
   "source": [
    "## With confidence threshold"
   ]
  },
  {
   "cell_type": "code",
   "execution_count": 16,
   "id": "d48a4fe2",
   "metadata": {
    "scrolled": false
   },
   "outputs": [
    {
     "name": "stdout",
     "output_type": "stream",
     "text": [
      "With a threshold of 0.85, model is 92% accurate.\n",
      "\n",
      "66% of the tiles exceeded the threshold.\n"
     ]
    }
   ],
   "source": [
    "# set up counters\n",
    "correct = 0\n",
    "total = 0\n",
    "\n",
    "# set up empty label lists\n",
    "threshold_predict = []\n",
    "threshold_true = []\n",
    "\n",
    "for index in range(len(test_prediction_list)):\n",
    "    \n",
    "    # check if the model's confidence is higher than the threshold\n",
    "    if np.max(predictions[index]) > threshold:                \n",
    "        \n",
    "        # add the labels to the thresholded lists\n",
    "        threshold_predict.append(test_prediction_list[index])\n",
    "        threshold_true.append(label_test_list[index])\n",
    "        \n",
    "        # check for incorrect guesses\n",
    "        if test_prediction_list[index] != label_test_list[index]:\n",
    "            \n",
    "            # count the guess as valid but wrong\n",
    "            total += 1\n",
    "        \n",
    "        # otherwise count it as correct as valid\n",
    "        else:   \n",
    "            total += 1\n",
    "            correct +=1\n",
    "\n",
    "print('With a threshold of {}, model is {}% accurate.\\n'.format(threshold, \n",
    "                                                               round(100*correct/total)))\n",
    "print('{}% of the tiles exceeded the threshold.'.format(round(100*total/len(predictions))))"
   ]
  },
  {
   "cell_type": "code",
   "execution_count": 18,
   "id": "ea00820b",
   "metadata": {},
   "outputs": [
    {
     "name": "stdout",
     "output_type": "stream",
     "text": [
      "              precision    recall  f1-score   support\n",
      "\n",
      "           0       0.93      0.96      0.94      1013\n",
      "           1       0.92      0.93      0.92      1030\n",
      "           2       0.87      0.82      0.84       321\n",
      "           3       1.00      0.00      0.00        16\n",
      "\n",
      "    accuracy                           0.92      2380\n",
      "   macro avg       0.93      0.68      0.68      2380\n",
      "weighted avg       0.92      0.92      0.91      2380\n",
      "\n"
     ]
    }
   ],
   "source": [
    "# generate the thresholded classification report\n",
    "class_report_thresholded = classification_report(threshold_true, threshold_predict, zero_division=1)\n",
    "print(class_report_thresholded)"
   ]
  },
  {
   "cell_type": "code",
   "execution_count": 22,
   "id": "7925f7d5",
   "metadata": {
    "scrolled": false
   },
   "outputs": [
    {
     "data": {
      "image/png": "[encoded data removed]",
      "text/plain": [
       "<Figure size 576x576 with 2 Axes>"
      ]
     },
     "metadata": {
      "needs_background": "light"
     },
     "output_type": "display_data"
    }
   ],
   "source": [
    "# generate confusion matrix for the thresholded values\n",
    "cm = confusion_matrix(threshold_true, threshold_predict)\n",
    "\n",
    "# set basic figure parameters\n",
    "fig, axes = plt.subplots(nrows=1, ncols=1, figsize=(8, 8), constrained_layout=True)\n",
    "\n",
    "# change the labels\n",
    "x_axis_labels = ['none', 'minor', 'major', 'ignore']\n",
    "y_axis_labels = ['none', 'minor', 'major', 'ignore']\n",
    "\n",
    "# plot the heatmaps\n",
    "sn.heatmap(cm, annot=True, ax=axes, xticklabels=x_axis_labels, yticklabels=y_axis_labels, fmt='g')\n",
    "\n",
    "plt.show()"
   ]
  }
 ],
 "metadata": {
  "kernelspec": {
   "display_name": "Python 3",
   "language": "python",
   "name": "python3"
  },
  "language_info": {
   "codemirror_mode": {
    "name": "ipython",
    "version": 3
   },
   "file_extension": ".py",
   "mimetype": "text/x-python",
   "name": "python",
   "nbconvert_exporter": "python",
   "pygments_lexer": "ipython3",
   "version": "3.9.5"
  }
 },
 "nbformat": 4,
 "nbformat_minor": 5
}
