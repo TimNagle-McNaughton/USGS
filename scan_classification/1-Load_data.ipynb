{
 "cells": [
  {
   "cell_type": "markdown",
   "id": "873c0866",
   "metadata": {},
   "source": [
    "This notebook generates CSV lists of the tiles to be used in training. Classes were sorted into folders: /no_events/, /minor_events/, /major_events/, /errors/. These CSVs are used in training."
   ]
  },
  {
   "cell_type": "code",
   "execution_count": 1,
   "id": "2f25bafe",
   "metadata": {
    "scrolled": true
   },
   "outputs": [],
   "source": [
    "# imports\n",
    "import glob\n",
    "from tqdm import tqdm"
   ]
  },
  {
   "cell_type": "code",
   "execution_count": 2,
   "id": "dc173ffd",
   "metadata": {},
   "outputs": [],
   "source": [
    "# set parameters\n",
    "tile_path = # path to folder of folders: path/no_events/, path/minor_events/, etc."
   ]
  },
  {
   "cell_type": "code",
   "execution_count": 3,
   "id": "da104ae5",
   "metadata": {},
   "outputs": [],
   "source": [
    "# get a list of folders to process\n",
    "folder_list = glob.glob(tile_path + \"*\")"
   ]
  },
  {
   "cell_type": "code",
   "execution_count": 4,
   "id": "3e158e34",
   "metadata": {},
   "outputs": [
    {
     "name": "stdout",
     "output_type": "stream",
     "text": [
      "E:/USGS/tiles\\0-no_events\n"
     ]
    },
    {
     "name": "stderr",
     "output_type": "stream",
     "text": [
      "100%|████████████████████████████████████████████████████████████████████████████| 6539/6539 [00:01<00:00, 5612.71it/s]\n"
     ]
    },
    {
     "name": "stdout",
     "output_type": "stream",
     "text": [
      "E:/USGS/tiles\\1-minor_events\n"
     ]
    },
    {
     "name": "stderr",
     "output_type": "stream",
     "text": [
      "100%|████████████████████████████████████████████████████████████████████████████| 8393/8393 [00:01<00:00, 5648.34it/s]\n"
     ]
    },
    {
     "name": "stdout",
     "output_type": "stream",
     "text": [
      "E:/USGS/tiles\\2-major_events\n"
     ]
    },
    {
     "name": "stderr",
     "output_type": "stream",
     "text": [
      "100%|████████████████████████████████████████████████████████████████████████████| 3049/3049 [00:00<00:00, 5472.73it/s]\n"
     ]
    },
    {
     "name": "stdout",
     "output_type": "stream",
     "text": [
      "E:/USGS/tiles\\3-ignore\n"
     ]
    },
    {
     "name": "stderr",
     "output_type": "stream",
     "text": [
      "100%|██████████████████████████████████████████████████████████████████████████████| 173/173 [00:00<00:00, 5404.99it/s]\n"
     ]
    }
   ],
   "source": [
    "# loop through each folder\n",
    "for folder in folder_list:\n",
    "    \n",
    "    print(folder)\n",
    "    \n",
    "    # get a list of the tiles in that folder\n",
    "    tile_list = glob.glob(folder + \"/*.png\")\n",
    "          \n",
    "    # loop through each tile and process\n",
    "    for index in tqdm(range(0, len(tile_list))):\n",
    "        \n",
    "        # get the tile\n",
    "        tile = tile_list[index]\n",
    "        \n",
    "        # get the tile's classification from the filepath\n",
    "        classification = tile[len(tile_path):len(tile_path)+1] \n",
    "        \n",
    "        # save the data to csv's\n",
    "        with open(tile_path + \"tiles.csv\", 'a') as outfile:\n",
    "            outfile.write(\"{}\\n\".format(tile))\n",
    "\n",
    "        with open(tile_path + \"classes.csv\", 'a') as outfile:\n",
    "            outfile.write(\"{}\\n\".format(classification))"
   ]
  }
 ],
 "metadata": {
  "kernelspec": {
   "display_name": "Python 3",
   "language": "python",
   "name": "python3"
  },
  "language_info": {
   "codemirror_mode": {
    "name": "ipython",
    "version": 3
   },
   "file_extension": ".py",
   "mimetype": "text/x-python",
   "name": "python",
   "nbconvert_exporter": "python",
   "pygments_lexer": "ipython3",
   "version": "3.9.5"
  }
 },
 "nbformat": 4,
 "nbformat_minor": 5
}
