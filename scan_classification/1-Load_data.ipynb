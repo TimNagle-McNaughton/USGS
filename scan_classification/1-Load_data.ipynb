{
 "cells": [
  {
   "cell_type": "code",
   "execution_count": null,
   "metadata": {
    "scrolled": true
   },
   "outputs": [],
   "source": [
    "# imports\n",
    "import glob\n",
    "from tqdm import tqdm"
   ]
  },
  {
   "cell_type": "code",
   "execution_count": null,
   "metadata": {},
   "outputs": [],
   "source": [
    "# set parameters\n",
    "tile_path = r\"E:/USGS/tiles/\""
   ]
  },
  {
   "cell_type": "code",
   "execution_count": null,
   "metadata": {},
   "outputs": [],
   "source": [
    "# get a list of folders to process\n",
    "folder_list = glob.glob(tile_path + \"*\")"
   ]
  },
  {
   "cell_type": "code",
   "execution_count": null,
   "metadata": {},
   "outputs": [],
   "source": [
    "# loop through each folder\n",
    "for folder in folder_list:\n",
    "    \n",
    "    print(folder)\n",
    "    \n",
    "    # get a list of the tiles in that folder\n",
    "    tile_list = glob.glob(folder + \"/*.png\")\n",
    "          \n",
    "    # loop through each tile and process\n",
    "    for index in tqdm(range(0, len(tile_list))):\n",
    "        \n",
    "        # get the tile\n",
    "        tile = tile_list[index]\n",
    "        \n",
    "        # get the tile's classification from the filepath\n",
    "        classification = tile[len(tile_path):len(tile_path)+1] \n",
    "        \n",
    "        # save the data to csv's\n",
    "        with open(tile_path + \"tiles.csv\", 'a') as outfile:\n",
    "            outfile.write(\"{}\\n\".format(tile))\n",
    "\n",
    "        with open(tile_path + \"classes.csv\", 'a') as outfile:\n",
    "            outfile.write(\"{}\\n\".format(classification))"
   ]
  }
 ],
 "metadata": {
  "kernelspec": {
   "display_name": "Python 3",
   "language": "python",
   "name": "python3"
  },
  "language_info": {
   "codemirror_mode": {
    "name": "ipython",
    "version": 3
   },
   "file_extension": ".py",
   "mimetype": "text/x-python",
   "name": "python",
   "nbconvert_exporter": "python",
   "pygments_lexer": "ipython3",
   "version": "3.8.5"
  }
 },
 "nbformat": 4,
 "nbformat_minor": 5
}
